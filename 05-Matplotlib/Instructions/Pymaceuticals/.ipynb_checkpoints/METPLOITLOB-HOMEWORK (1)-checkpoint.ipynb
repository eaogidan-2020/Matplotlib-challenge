{
 "cells": [
  {
   "cell_type": "code",
   "execution_count": 23,
   "metadata": {},
   "outputs": [],
   "source": [
    "# Dependencies and Setup\n",
    "import matplotlib.pyplot as plt\n",
    "import pandas as pd\n",
    "import scipy.stats as st\n",
    "import numpy as np\n",
    "\n"
   ]
  },
  {
   "cell_type": "code",
   "execution_count": 24,
   "metadata": {},
   "outputs": [],
   "source": [
    "# data files\n",
    "mouse_metadata = \"Mouse_metadata.csv\"\n",
    "study_results = \"Study_results.csv\""
   ]
  },
  {
   "cell_type": "code",
   "execution_count": 25,
   "metadata": {},
   "outputs": [
    {
     "ename": "FileNotFoundError",
     "evalue": "[Errno 2] File Mouse_metadata.csv does not exist: 'Mouse_metadata.csv'",
     "output_type": "error",
     "traceback": [
      "\u001b[1;31m---------------------------------------------------------------------------\u001b[0m",
      "\u001b[1;31mFileNotFoundError\u001b[0m                         Traceback (most recent call last)",
      "\u001b[1;32m<ipython-input-25-0c221b89fae3>\u001b[0m in \u001b[0;36m<module>\u001b[1;34m\u001b[0m\n\u001b[0;32m      1\u001b[0m \u001b[1;31m# upload data as csv\u001b[0m\u001b[1;33m\u001b[0m\u001b[1;33m\u001b[0m\u001b[1;33m\u001b[0m\u001b[0m\n\u001b[1;32m----> 2\u001b[1;33m \u001b[0mmouse_metadata\u001b[0m \u001b[1;33m=\u001b[0m \u001b[0mpd\u001b[0m\u001b[1;33m.\u001b[0m\u001b[0mread_csv\u001b[0m\u001b[1;33m(\u001b[0m\u001b[0mmouse_metadata\u001b[0m\u001b[1;33m)\u001b[0m\u001b[1;33m\u001b[0m\u001b[1;33m\u001b[0m\u001b[0m\n\u001b[0m\u001b[0;32m      3\u001b[0m \u001b[0mstudy_results\u001b[0m \u001b[1;33m=\u001b[0m \u001b[0mpd\u001b[0m\u001b[1;33m.\u001b[0m\u001b[0mread_csv\u001b[0m\u001b[1;33m(\u001b[0m\u001b[0mstudy_results\u001b[0m\u001b[1;33m)\u001b[0m\u001b[1;33m\u001b[0m\u001b[1;33m\u001b[0m\u001b[0m\n",
      "\u001b[1;32m~\\anaconda3\\lib\\site-packages\\pandas\\io\\parsers.py\u001b[0m in \u001b[0;36mparser_f\u001b[1;34m(filepath_or_buffer, sep, delimiter, header, names, index_col, usecols, squeeze, prefix, mangle_dupe_cols, dtype, engine, converters, true_values, false_values, skipinitialspace, skiprows, skipfooter, nrows, na_values, keep_default_na, na_filter, verbose, skip_blank_lines, parse_dates, infer_datetime_format, keep_date_col, date_parser, dayfirst, cache_dates, iterator, chunksize, compression, thousands, decimal, lineterminator, quotechar, quoting, doublequote, escapechar, comment, encoding, dialect, error_bad_lines, warn_bad_lines, delim_whitespace, low_memory, memory_map, float_precision)\u001b[0m\n\u001b[0;32m    674\u001b[0m         )\n\u001b[0;32m    675\u001b[0m \u001b[1;33m\u001b[0m\u001b[0m\n\u001b[1;32m--> 676\u001b[1;33m         \u001b[1;32mreturn\u001b[0m \u001b[0m_read\u001b[0m\u001b[1;33m(\u001b[0m\u001b[0mfilepath_or_buffer\u001b[0m\u001b[1;33m,\u001b[0m \u001b[0mkwds\u001b[0m\u001b[1;33m)\u001b[0m\u001b[1;33m\u001b[0m\u001b[1;33m\u001b[0m\u001b[0m\n\u001b[0m\u001b[0;32m    677\u001b[0m \u001b[1;33m\u001b[0m\u001b[0m\n\u001b[0;32m    678\u001b[0m     \u001b[0mparser_f\u001b[0m\u001b[1;33m.\u001b[0m\u001b[0m__name__\u001b[0m \u001b[1;33m=\u001b[0m \u001b[0mname\u001b[0m\u001b[1;33m\u001b[0m\u001b[1;33m\u001b[0m\u001b[0m\n",
      "\u001b[1;32m~\\anaconda3\\lib\\site-packages\\pandas\\io\\parsers.py\u001b[0m in \u001b[0;36m_read\u001b[1;34m(filepath_or_buffer, kwds)\u001b[0m\n\u001b[0;32m    446\u001b[0m \u001b[1;33m\u001b[0m\u001b[0m\n\u001b[0;32m    447\u001b[0m     \u001b[1;31m# Create the parser.\u001b[0m\u001b[1;33m\u001b[0m\u001b[1;33m\u001b[0m\u001b[1;33m\u001b[0m\u001b[0m\n\u001b[1;32m--> 448\u001b[1;33m     \u001b[0mparser\u001b[0m \u001b[1;33m=\u001b[0m \u001b[0mTextFileReader\u001b[0m\u001b[1;33m(\u001b[0m\u001b[0mfp_or_buf\u001b[0m\u001b[1;33m,\u001b[0m \u001b[1;33m**\u001b[0m\u001b[0mkwds\u001b[0m\u001b[1;33m)\u001b[0m\u001b[1;33m\u001b[0m\u001b[1;33m\u001b[0m\u001b[0m\n\u001b[0m\u001b[0;32m    449\u001b[0m \u001b[1;33m\u001b[0m\u001b[0m\n\u001b[0;32m    450\u001b[0m     \u001b[1;32mif\u001b[0m \u001b[0mchunksize\u001b[0m \u001b[1;32mor\u001b[0m \u001b[0miterator\u001b[0m\u001b[1;33m:\u001b[0m\u001b[1;33m\u001b[0m\u001b[1;33m\u001b[0m\u001b[0m\n",
      "\u001b[1;32m~\\anaconda3\\lib\\site-packages\\pandas\\io\\parsers.py\u001b[0m in \u001b[0;36m__init__\u001b[1;34m(self, f, engine, **kwds)\u001b[0m\n\u001b[0;32m    878\u001b[0m             \u001b[0mself\u001b[0m\u001b[1;33m.\u001b[0m\u001b[0moptions\u001b[0m\u001b[1;33m[\u001b[0m\u001b[1;34m\"has_index_names\"\u001b[0m\u001b[1;33m]\u001b[0m \u001b[1;33m=\u001b[0m \u001b[0mkwds\u001b[0m\u001b[1;33m[\u001b[0m\u001b[1;34m\"has_index_names\"\u001b[0m\u001b[1;33m]\u001b[0m\u001b[1;33m\u001b[0m\u001b[1;33m\u001b[0m\u001b[0m\n\u001b[0;32m    879\u001b[0m \u001b[1;33m\u001b[0m\u001b[0m\n\u001b[1;32m--> 880\u001b[1;33m         \u001b[0mself\u001b[0m\u001b[1;33m.\u001b[0m\u001b[0m_make_engine\u001b[0m\u001b[1;33m(\u001b[0m\u001b[0mself\u001b[0m\u001b[1;33m.\u001b[0m\u001b[0mengine\u001b[0m\u001b[1;33m)\u001b[0m\u001b[1;33m\u001b[0m\u001b[1;33m\u001b[0m\u001b[0m\n\u001b[0m\u001b[0;32m    881\u001b[0m \u001b[1;33m\u001b[0m\u001b[0m\n\u001b[0;32m    882\u001b[0m     \u001b[1;32mdef\u001b[0m \u001b[0mclose\u001b[0m\u001b[1;33m(\u001b[0m\u001b[0mself\u001b[0m\u001b[1;33m)\u001b[0m\u001b[1;33m:\u001b[0m\u001b[1;33m\u001b[0m\u001b[1;33m\u001b[0m\u001b[0m\n",
      "\u001b[1;32m~\\anaconda3\\lib\\site-packages\\pandas\\io\\parsers.py\u001b[0m in \u001b[0;36m_make_engine\u001b[1;34m(self, engine)\u001b[0m\n\u001b[0;32m   1112\u001b[0m     \u001b[1;32mdef\u001b[0m \u001b[0m_make_engine\u001b[0m\u001b[1;33m(\u001b[0m\u001b[0mself\u001b[0m\u001b[1;33m,\u001b[0m \u001b[0mengine\u001b[0m\u001b[1;33m=\u001b[0m\u001b[1;34m\"c\"\u001b[0m\u001b[1;33m)\u001b[0m\u001b[1;33m:\u001b[0m\u001b[1;33m\u001b[0m\u001b[1;33m\u001b[0m\u001b[0m\n\u001b[0;32m   1113\u001b[0m         \u001b[1;32mif\u001b[0m \u001b[0mengine\u001b[0m \u001b[1;33m==\u001b[0m \u001b[1;34m\"c\"\u001b[0m\u001b[1;33m:\u001b[0m\u001b[1;33m\u001b[0m\u001b[1;33m\u001b[0m\u001b[0m\n\u001b[1;32m-> 1114\u001b[1;33m             \u001b[0mself\u001b[0m\u001b[1;33m.\u001b[0m\u001b[0m_engine\u001b[0m \u001b[1;33m=\u001b[0m \u001b[0mCParserWrapper\u001b[0m\u001b[1;33m(\u001b[0m\u001b[0mself\u001b[0m\u001b[1;33m.\u001b[0m\u001b[0mf\u001b[0m\u001b[1;33m,\u001b[0m \u001b[1;33m**\u001b[0m\u001b[0mself\u001b[0m\u001b[1;33m.\u001b[0m\u001b[0moptions\u001b[0m\u001b[1;33m)\u001b[0m\u001b[1;33m\u001b[0m\u001b[1;33m\u001b[0m\u001b[0m\n\u001b[0m\u001b[0;32m   1115\u001b[0m         \u001b[1;32melse\u001b[0m\u001b[1;33m:\u001b[0m\u001b[1;33m\u001b[0m\u001b[1;33m\u001b[0m\u001b[0m\n\u001b[0;32m   1116\u001b[0m             \u001b[1;32mif\u001b[0m \u001b[0mengine\u001b[0m \u001b[1;33m==\u001b[0m \u001b[1;34m\"python\"\u001b[0m\u001b[1;33m:\u001b[0m\u001b[1;33m\u001b[0m\u001b[1;33m\u001b[0m\u001b[0m\n",
      "\u001b[1;32m~\\anaconda3\\lib\\site-packages\\pandas\\io\\parsers.py\u001b[0m in \u001b[0;36m__init__\u001b[1;34m(self, src, **kwds)\u001b[0m\n\u001b[0;32m   1889\u001b[0m         \u001b[0mkwds\u001b[0m\u001b[1;33m[\u001b[0m\u001b[1;34m\"usecols\"\u001b[0m\u001b[1;33m]\u001b[0m \u001b[1;33m=\u001b[0m \u001b[0mself\u001b[0m\u001b[1;33m.\u001b[0m\u001b[0musecols\u001b[0m\u001b[1;33m\u001b[0m\u001b[1;33m\u001b[0m\u001b[0m\n\u001b[0;32m   1890\u001b[0m \u001b[1;33m\u001b[0m\u001b[0m\n\u001b[1;32m-> 1891\u001b[1;33m         \u001b[0mself\u001b[0m\u001b[1;33m.\u001b[0m\u001b[0m_reader\u001b[0m \u001b[1;33m=\u001b[0m \u001b[0mparsers\u001b[0m\u001b[1;33m.\u001b[0m\u001b[0mTextReader\u001b[0m\u001b[1;33m(\u001b[0m\u001b[0msrc\u001b[0m\u001b[1;33m,\u001b[0m \u001b[1;33m**\u001b[0m\u001b[0mkwds\u001b[0m\u001b[1;33m)\u001b[0m\u001b[1;33m\u001b[0m\u001b[1;33m\u001b[0m\u001b[0m\n\u001b[0m\u001b[0;32m   1892\u001b[0m         \u001b[0mself\u001b[0m\u001b[1;33m.\u001b[0m\u001b[0munnamed_cols\u001b[0m \u001b[1;33m=\u001b[0m \u001b[0mself\u001b[0m\u001b[1;33m.\u001b[0m\u001b[0m_reader\u001b[0m\u001b[1;33m.\u001b[0m\u001b[0munnamed_cols\u001b[0m\u001b[1;33m\u001b[0m\u001b[1;33m\u001b[0m\u001b[0m\n\u001b[0;32m   1893\u001b[0m \u001b[1;33m\u001b[0m\u001b[0m\n",
      "\u001b[1;32mpandas\\_libs\\parsers.pyx\u001b[0m in \u001b[0;36mpandas._libs.parsers.TextReader.__cinit__\u001b[1;34m()\u001b[0m\n",
      "\u001b[1;32mpandas\\_libs\\parsers.pyx\u001b[0m in \u001b[0;36mpandas._libs.parsers.TextReader._setup_parser_source\u001b[1;34m()\u001b[0m\n",
      "\u001b[1;31mFileNotFoundError\u001b[0m: [Errno 2] File Mouse_metadata.csv does not exist: 'Mouse_metadata.csv'"
     ]
    }
   ],
   "source": [
    "# upload data as csv\n",
    "mouse_metadata = pd.read_csv(mouse_metadata)\n",
    "study_results = pd.read_csv(study_results)"
   ]
  },
  {
   "cell_type": "code",
   "execution_count": null,
   "metadata": {},
   "outputs": [],
   "source": [
    "# merge data into a single dataset\n",
    "all_mouse = pd.merge(mouse_metadata,study_results,on='Mouse ID') \n",
    "\n",
    "all_mouse.head()"
   ]
  },
  {
   "cell_type": "code",
   "execution_count": null,
   "metadata": {},
   "outputs": [],
   "source": [
    "# summary statistics table of mean, median, variance, standard deviation, and SEM of the tumor volume for each regimen\n",
    "mouse_mean = all_mouse.groupby('Drug Regimen').mean()['Tumor Volume (mm3)']\n",
    "mouse_median = all_mouse.groupby('Drug Regimen').median()['Tumor Volume (mm3)']\n",
    "mouse_variance = all_mouse.groupby('Drug Regimen').var()['Tumor Volume (mm3)']\n",
    "mouse_standard_deviation = all_mouse.groupby('Drug Regimen').std()['Tumor Volume (mm3)']\n",
    "mouse_sem = all_mouse.groupby('Drug Regimen').sem()['Tumor Volume (mm3)']\n",
    "\n",
    "table_mean_df = pd.DataFrame(mouse_mean)\n",
    "table_comp = table_mean_df.rename(columns={\"Tumor Volume (mm3)\": \"Mean\"})\n",
    "\n",
    "table_comp.assign(Median=mouse_median,Variance=mouse_variance,Standard_deviation=mouse_standard_deviation,SEM=mouse_sem)"
   ]
  },
  {
   "cell_type": "code",
   "execution_count": null,
   "metadata": {},
   "outputs": [],
   "source": [
    "# plot a bar plot showing number of data points for each treatment regimen using pandas\n",
    "\n",
    "barchart_data = all_mouse.groupby('Drug Regimen').count()['Tumor Volume (mm3)']\n",
    "barchart_plot_data = barchart_data.plot.bar(rot='vertical',title='Data Points vs Treatment analysis')\n",
    "\n",
    "\n",
    "\n",
    "barchart_plot_data.set_xlabel(\"Drug Analysis\")\n",
    "barchart_plot_data.set_ylabel(\"Data Points Analysis\")\n"
   ]
  },
  {
   "cell_type": "code",
   "execution_count": null,
   "metadata": {},
   "outputs": [],
   "source": [
    "#plot a bar plot showing number of data points for each treatment regimen using pyplot\n",
    "barchart_data = combine_ms.groupby('Drug Regimen').count()['Tumor Volume (mm3)']\n",
    "barchart_data_df = pd.DataFrame(barpd_data)\n",
    "\n",
    "plt.xdata = barpd_data_df.plot.bar(legend=False)\n",
    "plt.xlabel('Drug Analysis')\n",
    "plt.ylabel('Data Points Analysis')\n",
    "plt.title('Data Points vs Treatment analysis')\n",
    "\n",
    "plt.show()"
   ]
  },
  {
   "cell_type": "code",
   "execution_count": null,
   "metadata": {},
   "outputs": [],
   "source": [
    "#plot a pie plot showing the distribution of female vs male mice in pyplot\n",
    "gender = all_mouse.groupby('Sex').count()['Mouse ID']\n",
    "gender_df = pd.DataFrame(gender)\n",
    "gender_df \n",
    "\n",
    "plt.pie(gender,labels=gender.index);\n",
    "plt.title('Distribution of M vs F')\n",
    "plt.ylabel('Mouse ID')\n",
    "colors =['#abcdef',  '#aabbcc']\n",
    "\n",
    "\n",
    "\n",
    "plt.show()\n",
    "\n",
    "\n",
    "\n",
    "\n",
    "\n"
   ]
  },
  {
   "cell_type": "code",
   "execution_count": null,
   "metadata": {},
   "outputs": [],
   "source": [
    "# plot a pie plot showing the distribution of female vs male micein pandas\n",
    "gender = all_mouse.groupby('Sex').count()['Mouse ID']\n",
    "\n",
    "\n",
    "pie_plot = gender.plot.pie(y='Sex',title='Distribution of Male vs Female') "
   ]
  },
  {
   "cell_type": "raw",
   "metadata": {},
   "source": [
    "#terminal tumor volume of of the best four treatment Efficacy and IQR. \n",
    "\n",
    "ca_df = all_mouse.loc[combine_mouse[\"Drug Efficacyf\"] == \"Capomulin\",:]\n",
    "ram_df = all_mouse.loc[combine_mouse[\"Drug Efficacy\"] == \"Ramicane\", :]\n",
    "inf_df = all_mouse.loc[combine_mouse[\"Drffug Efficacy\"] == \"Infubinol\", :]\n",
    "cef_df = all_mouse.loc[combine_mouse[\"Drug Efficacy\"] == \"Ceftamin\", :]"
   ]
  },
  {
   "cell_type": "code",
   "execution_count": null,
   "metadata": {},
   "outputs": [],
   "source": [
    "#instance of/ ca/ram/inf/cef\n",
    "ca_max = ca_df.groupby('Mouse ID').max()['Timepoint']\n",
    "ca_max_df = pd.DataFrame(c_max)\n",
    "ca_max_merge = pd.merge(c_max_df,combine_ms,on=(\"Mouse ID\",\"Timepoint\"),how=\"left\")\n",
    "ca_max_merge.head()\n",
    "\n",
    "ram_max =ram_df.groupby('Mouse ID').max()['Timepoint']\n",
    "ram_max_df = pd.DataFrame(r_max)\n",
    "ram_max_merge = pd.merge(r_max_df,combine_ms,on=(\"Mouse ID\",\"Timepoint\"),how=\"left\")\n",
    "ram_max_merge.head()\n",
    "\n",
    "inf_max = i_df.groupby('Mouse ID').max()['Timepoint']\n",
    "inf_max_df = pd.DataFrame(i_max)\n",
    "inf_max_merge = pd.merge(i_max_df,combine_ms,on=(\"Mouse ID\",\"Timepoint\"),how=\"left\")\n",
    "inf_max_merge.head()\n",
    "\n",
    "cef_max = cef_df.groupby('Mouse ID').max()['Timepoint']\n",
    "cef_max_df = pd.DataFrame(cef_max)\n",
    "cef_max_merge = pd.merge(cef_max_df,combine_ms,on=(\"Mouse ID\",\"Timepoint\"),how=\"left\")\n",
    "cef_max_merge.head()"
   ]
  },
  {
   "cell_type": "code",
   "execution_count": null,
   "metadata": {},
   "outputs": [],
   "source": [
    "#cef instance\n",
    "cef_tumors = cef_max_merge[\"Tumor Volume (mm3)\"]\n",
    "\n",
    "cef_quartiles = cef_tumors.quantile([.25,.5,.75])\n",
    "cef_lowerq = cef_quartiles[0.25]\n",
    "cef_upperq = cef_quartiles[0.75]\n",
    "cef_iqr = cef_upperq-c_lowerq\n",
    "\n",
    "cef_lower_bound = cef_lowerq - (1.5*c_iqr)\n",
    "cef_upper_bound = cef_upperq + (1.5*c_iqr)\n",
    "print(f\"Capomulin potential outliers could be values below {cef_lower_bound} and above {cef_upper_bound} could be outliers.\")\n",
    "\n",
    "#ram instance \n",
    "ram_tumors = ram_max_merge[\"Tumor Volume (mm3)\"]\n",
    "\n",
    "ram_quartiles = r_tumors.quantile([.25,.5,.75])\n",
    "ram_lowerq = r_quartiles[0.25]\n",
    "ram_upperq = r_quartiles[0.75]\n",
    "ram_iqr = r_upperq-r_lowerq\n",
    "\n",
    "ram_lower_bound = r_lowerq - (1.5*r_iqr)\n",
    "ram_upper_bound = r_upperq + (1.5*r_iqr)\n",
    "print(f\"Ramicane potential outliers could be values below {ram_lower_bound} and above {ram_upper_bound} could be outliers.\")\n",
    "\n",
    "#inf instance\n",
    "inf_tumors = i_max_merge[\"Tumor Volume (mm3)\"]\n",
    "\n",
    "inf_quartiles = i_tumors.quantile([.25,.5,.75])\n",
    "inf_lowerq = i_quartiles[0.25]\n",
    "inf_upperq = i_quartiles[0.75]\n",
    "inf_iqr = i_upperq-i_lowerq\n",
    "\n",
    "inf_lower_bound = i_lowerq - (1.5*i_iqr)\n",
    "inf_upper_bound = i_upperq + (1.5*i_iqr)\n",
    "print(f\"Infubinol potential outliers could be values below {inf_lower_bound} and above {inf_upper_bound} could be outliers.\")\n",
    "\n",
    "#cef instance\n",
    "cef_tumors = cef_max_merge[\"Tumor Volume (mm3)\"]\n",
    "\n",
    "cef_quartiles = cef_tumors.quantile([.25,.5,.75])\n",
    "cef_lowerq = cef_quartiles[0.25]\n",
    "cef_upperq = cef_quartiles[0.75]\n",
    "cef_iqr = cef_upperq-ce_lowerq\n",
    "\n",
    "cef_lower_bound = cef_lowerq - (1.5*cef_iqr)\n",
    "cef_upper_bound = cef_upperq + (1.5*cef_iqr)\n",
    "print(f\"Ceftamin potential outliers could be values below {cef_lower_bound} and above {cef_upper_bound} could be outliers.\")"
   ]
  },
  {
   "cell_type": "code",
   "execution_count": null,
   "metadata": {},
   "outputs": [],
   "source": [
    "#Capomulin final tumor volume of each mouse \n",
    "fig1, ax1 = plt.subplots()\n",
    "ax1.set_title('Capomulin Drug')\n",
    "ax1.set_ylabel('Final Tumor Volume')\n",
    "ax1.boxplot(c_tumors)\n",
    "plt.show()"
   ]
  },
  {
   "cell_type": "code",
   "execution_count": null,
   "metadata": {
    "scrolled": true
   },
   "outputs": [],
   "source": [
    "# #Ramicane final tumor volume of each mouse \n",
    "fig1, ax1 = plt.subplots()\n",
    "ax1.set_title('Ramicane Drug')\n",
    "ax1.set_ylabel('Final Tumor Volume')\n",
    "ax1.boxplot(ram_tumors)\n",
    "plt.show()"
   ]
  },
  {
   "cell_type": "code",
   "execution_count": null,
   "metadata": {},
   "outputs": [],
   "source": [
    "#Infubinol final tumor volume of each mouse \n",
    "fig1, ax1 = plt.subplots()\n",
    "ax1.set_title('Infubinol Drug')\n",
    "ax1.set_ylabel('Final Tumor Volume')\n",
    "ax1.boxplot(inf_tumors)\n",
    "plt.show()"
   ]
  },
  {
   "cell_type": "code",
   "execution_count": null,
   "metadata": {},
   "outputs": [],
   "source": [
    "#Ceftamin final tumor volume of each mouse \n",
    "fig1, ax1 = plt.subplots()\n",
    "ax1.set_title('Ceftamin Drug')\n",
    "ax1.set_ylabel('Final Tumor Volume')\n",
    "ax1.boxplot(ce_tumors)\n",
    "plt.show()"
   ]
  },
  {
   "cell_type": "code",
   "execution_count": 26,
   "metadata": {},
   "outputs": [
    {
     "ename": "NameError",
     "evalue": "name 'c_df' is not defined",
     "output_type": "error",
     "traceback": [
      "\u001b[1;31m---------------------------------------------------------------------------\u001b[0m",
      "\u001b[1;31mNameError\u001b[0m                                 Traceback (most recent call last)",
      "\u001b[1;32m<ipython-input-26-e0587882cce1>\u001b[0m in \u001b[0;36m<module>\u001b[1;34m\u001b[0m\n\u001b[0;32m      1\u001b[0m \u001b[1;31m# Generate a line plot of time point versus tumor volume for a mouse treated with Capomulin\u001b[0m\u001b[1;33m\u001b[0m\u001b[1;33m\u001b[0m\u001b[1;33m\u001b[0m\u001b[0m\n\u001b[1;32m----> 2\u001b[1;33m \u001b[0mline_df\u001b[0m \u001b[1;33m=\u001b[0m \u001b[0mc_df\u001b[0m\u001b[1;33m.\u001b[0m\u001b[0mloc\u001b[0m\u001b[1;33m[\u001b[0m\u001b[0mc_df\u001b[0m\u001b[1;33m[\u001b[0m\u001b[1;34m\"Mouse ID\"\u001b[0m\u001b[1;33m]\u001b[0m \u001b[1;33m==\u001b[0m \u001b[1;34m\"l509\"\u001b[0m\u001b[1;33m,\u001b[0m\u001b[1;33m:\u001b[0m\u001b[1;33m]\u001b[0m\u001b[1;33m\u001b[0m\u001b[1;33m\u001b[0m\u001b[0m\n\u001b[0m\u001b[0;32m      3\u001b[0m \u001b[0mline_df\u001b[0m\u001b[1;33m.\u001b[0m\u001b[0mhead\u001b[0m\u001b[1;33m(\u001b[0m\u001b[1;33m)\u001b[0m\u001b[1;33m\u001b[0m\u001b[1;33m\u001b[0m\u001b[0m\n",
      "\u001b[1;31mNameError\u001b[0m: name 'c_df' is not defined"
     ]
    }
   ],
   "source": [
    "# Generate a line plot of time point versus tumor volume for a mouse treated with Capomulin\n",
    "line_df = c_df.loc[c_df[\"Mouse ID\"] == \"l509\",:]\n",
    "line_df.head()"
   ]
  },
  {
   "cell_type": "code",
   "execution_count": null,
   "metadata": {},
   "outputs": [],
   "source": [
    "x_axis_tp = line_df[\"Timepoint\"]\n",
    "tv = line_df[\"Tumor Volume (mm3)\"]\n",
    "\n",
    "plt.title('Capomulin treatmeant of mouse l509!', fontdict={'fontname': 'Comic Sans MS', 'fontsize':20})\n",
    "plt.plot(x_axis_tp,tv,linewidth=3, markersize=15)\n",
    "plt.xlabel('Timepoint (Days)')\n",
    "plt.ylabel('Tumor Volume (mm3)')\n",
    "plt.grid()\n",
    "plt.savefig('lineplotchart')\n",
    "\n",
    "\n",
    "plt.show()"
   ]
  },
  {
   "cell_type": "code",
   "execution_count": null,
   "metadata": {},
   "outputs": [],
   "source": [
    "# Generate a scatter plot of mouse weight versus average tumor volume for the Capomulin regimen\n",
    "cef_df_average = cef_df.groupby(['Mouse ID']).mean()\n",
    "plt.scatter(cef_df_average['Weight (g)'],c_df_average['Tumor Volume (mm3)'])\n",
    "plt.xlabel('Weight (g)')\n",
    "plt.ylabel('Average Tumor Volume (mm3)')\n",
    "plt.title('mouse weight vs avg tumor volume for Capomulin regimen')\n",
    "plt.savefig('scatterplotaverage')\n",
    "plt.show()"
   ]
  },
  {
   "cell_type": "code",
   "execution_count": null,
   "metadata": {},
   "outputs": [],
   "source": [
    "\n",
    "# Calculate the correlation coefficient and linear regression model for mouse weight and average tumor volume for the Capomulin regimen\n",
    "lr_model=st.linregress(c_df_average['Weight (g)'],cef_df_average['Tumor Volume (mm3)'])\n",
    "lr_model\n",
    "\n",
    "lr_slope = 0.9544396890241045 \n",
    "lr_intercept= 21.552160532685015\n",
    "\n",
    "y_values = cef_df_average['Weight (g)']*lr_slope+lr_intercept\n",
    "plt.scatter(c_df_average['Weight (g)'],cef_df_average['Tumor Volume (mm3)'])\n",
    "\n",
    "plt.plot(cef_df_average['Weight (g)'],y_values,color=\"red\")\n",
    "plt.xlabel('Weight(g)')\n",
    "plt.ylabel('Average Tumore Volume (mm3)')\n",
    "plt.title('mouse weight vs avg tumor volume for Capomulin regimen')\n",
    "\n",
    "plt.savefig('regression')\n",
    "plt.show()"
   ]
  },
  {
   "cell_type": "code",
   "execution_count": null,
   "metadata": {},
   "outputs": [],
   "source": []
  },
  {
   "cell_type": "code",
   "execution_count": null,
   "metadata": {},
   "outputs": [],
   "source": []
  }
 ],
 "metadata": {
  "kernelspec": {
   "display_name": "Python 3",
   "language": "python",
   "name": "python3"
  },
  "language_info": {
   "codemirror_mode": {
    "name": "ipython",
    "version": 3
   },
   "file_extension": ".py",
   "mimetype": "text/x-python",
   "name": "python",
   "nbconvert_exporter": "python",
   "pygments_lexer": "ipython3",
   "version": "3.8.3"
  }
 },
 "nbformat": 4,
 "nbformat_minor": 4
}
